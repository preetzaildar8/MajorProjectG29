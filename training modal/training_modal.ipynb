{
 "cells": [
  {
   "cell_type": "code",
   "execution_count": 1,
   "id": "893ca8a9",
   "metadata": {},
   "outputs": [],
   "source": [
    "import cv2 \n",
    "import os  \n",
    "import time  \n",
    "import uuid"
   ]
  },
  {
   "cell_type": "code",
   "execution_count": 2,
   "id": "1f08059c",
   "metadata": {},
   "outputs": [],
   "source": [
    "IMAGES_PATH='Tensorflow\\workspace\\images\\collectedimages'"
   ]
  },
  {
   "cell_type": "code",
   "execution_count": 3,
   "id": "da275480",
   "metadata": {},
   "outputs": [],
   "source": [
    "labels=['stop','yes','no','love_you','end','fist']\n",
    "number_of_images=15"
   ]
  },
  {
   "cell_type": "code",
   "execution_count": 4,
   "id": "104efaf1",
   "metadata": {},
   "outputs": [
    {
     "name": "stdout",
     "output_type": "stream",
     "text": [
      "Collecting images for stop\n"
     ]
    },
    {
     "ename": "KeyboardInterrupt",
     "evalue": "",
     "output_type": "error",
     "traceback": [
      "\u001b[1;31m---------------------------------------------------------------------------\u001b[0m",
      "\u001b[1;31mKeyboardInterrupt\u001b[0m                         Traceback (most recent call last)",
      "\u001b[1;32mc:\\Users\\manjo\\OneDrive\\Desktop\\majorProject\\mid term project\\training modal\\training_modal.ipynb Cell 4'\u001b[0m in \u001b[0;36m<cell line: 1>\u001b[1;34m()\u001b[0m\n\u001b[0;32m      <a href='vscode-notebook-cell:/c%3A/Users/manjo/OneDrive/Desktop/majorProject/mid%20term%20project/training%20modal/training_modal.ipynb#ch0000003?line=8'>9</a>\u001b[0m cv2\u001b[39m.\u001b[39mimwrite(imagename,frame)\n\u001b[0;32m     <a href='vscode-notebook-cell:/c%3A/Users/manjo/OneDrive/Desktop/majorProject/mid%20term%20project/training%20modal/training_modal.ipynb#ch0000003?line=9'>10</a>\u001b[0m cv2\u001b[39m.\u001b[39mimshow(\u001b[39m'\u001b[39m\u001b[39mframe\u001b[39m\u001b[39m'\u001b[39m,frame)\n\u001b[1;32m---> <a href='vscode-notebook-cell:/c%3A/Users/manjo/OneDrive/Desktop/majorProject/mid%20term%20project/training%20modal/training_modal.ipynb#ch0000003?line=10'>11</a>\u001b[0m time\u001b[39m.\u001b[39;49msleep(\u001b[39m2\u001b[39;49m)\n\u001b[0;32m     <a href='vscode-notebook-cell:/c%3A/Users/manjo/OneDrive/Desktop/majorProject/mid%20term%20project/training%20modal/training_modal.ipynb#ch0000003?line=12'>13</a>\u001b[0m \u001b[39mif\u001b[39;00m cv2\u001b[39m.\u001b[39mwaitKey(\u001b[39m1\u001b[39m) \u001b[39m&\u001b[39m \u001b[39m0xFF\u001b[39m\u001b[39m==\u001b[39m\u001b[39mord\u001b[39m(\u001b[39m'\u001b[39m\u001b[39mq\u001b[39m\u001b[39m'\u001b[39m):\n\u001b[0;32m     <a href='vscode-notebook-cell:/c%3A/Users/manjo/OneDrive/Desktop/majorProject/mid%20term%20project/training%20modal/training_modal.ipynb#ch0000003?line=13'>14</a>\u001b[0m     \u001b[39mbreak\u001b[39;00m\n",
      "\u001b[1;31mKeyboardInterrupt\u001b[0m: "
     ]
    }
   ],
   "source": [
    "for label in labels:\n",
    "    !mkdir {'Tensorflow\\workspace\\images\\collectedimages\\\\'+label}\n",
    "    cap=cv2.VideoCapture(0)\n",
    "    print('Collecting images for {}'.format(label))\n",
    "    time.sleep(5)\n",
    "    for imgnum in range(number_of_images):\n",
    "        ret,frame=cap.read()\n",
    "        imagename=os.path.join(IMAGES_PATH,label,label+'.'+'{}.jpg'.format(str(uuid.uuid1())))\n",
    "        cv2.imwrite(imagename,frame)\n",
    "        cv2.imshow('frame',frame)\n",
    "        time.sleep(2)\n",
    "        \n",
    "        if cv2.waitKey(1) & 0xFF==ord('q'):\n",
    "            break\n",
    "    cap.release()\n",
    "    \n",
    "cv2.destroyAllWindows()"
   ]
  },
  {
   "cell_type": "code",
   "execution_count": null,
   "id": "3006a6f8",
   "metadata": {},
   "outputs": [],
   "source": []
  }
 ],
 "metadata": {
  "kernelspec": {
   "display_name": "Python 3 (ipykernel)",
   "language": "python",
   "name": "python3"
  },
  "language_info": {
   "codemirror_mode": {
    "name": "ipython",
    "version": 3
   },
   "file_extension": ".py",
   "mimetype": "text/x-python",
   "name": "python",
   "nbconvert_exporter": "python",
   "pygments_lexer": "ipython3",
   "version": "3.10.2"
  }
 },
 "nbformat": 4,
 "nbformat_minor": 5
}
